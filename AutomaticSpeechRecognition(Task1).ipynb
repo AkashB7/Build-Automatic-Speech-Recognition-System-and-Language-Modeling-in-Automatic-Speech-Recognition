{
  "nbformat": 4,
  "nbformat_minor": 0,
  "metadata": {
    "colab": {
      "provenance": []
    },
    "kernelspec": {
      "name": "python3",
      "display_name": "Python 3"
    },
    "language_info": {
      "name": "python"
    }
  },
  "cells": [
    {
      "cell_type": "code",
      "source": [
        "!pip install git+https://github.com/MeMartijn/updated-sklearn-crfsuite.git"
      ],
      "metadata": {
        "colab": {
          "base_uri": "https://localhost:8080/"
        },
        "id": "6LalaDW5niE3",
        "outputId": "bd57cf6c-ad8f-4d76-85ee-bd274ac1e6c1"
      },
      "execution_count": 1,
      "outputs": [
        {
          "output_type": "stream",
          "name": "stdout",
          "text": [
            "Collecting git+https://github.com/MeMartijn/updated-sklearn-crfsuite.git\n",
            "  Cloning https://github.com/MeMartijn/updated-sklearn-crfsuite.git to /tmp/pip-req-build-t25gm14m\n",
            "  Running command git clone --filter=blob:none --quiet https://github.com/MeMartijn/updated-sklearn-crfsuite.git /tmp/pip-req-build-t25gm14m\n",
            "  Resolved https://github.com/MeMartijn/updated-sklearn-crfsuite.git to commit 675038761b4405f04691a83339d04903790e2b95\n",
            "  Preparing metadata (setup.py) ... \u001b[?25l\u001b[?25hdone\n",
            "Requirement already satisfied: tqdm>=2.0 in /usr/local/lib/python3.10/dist-packages (from sklearn-crfsuite==0.3.6) (4.66.2)\n",
            "Requirement already satisfied: six in /usr/local/lib/python3.10/dist-packages (from sklearn-crfsuite==0.3.6) (1.16.0)\n",
            "Requirement already satisfied: tabulate in /usr/local/lib/python3.10/dist-packages (from sklearn-crfsuite==0.3.6) (0.9.0)\n",
            "Collecting python-crfsuite>=0.8.3 (from sklearn-crfsuite==0.3.6)\n",
            "  Downloading python_crfsuite-0.9.10-cp310-cp310-manylinux_2_17_x86_64.manylinux2014_x86_64.whl (1.1 MB)\n",
            "\u001b[2K     \u001b[90m━━━━━━━━━━━━━━━━━━━━━━━━━━━━━━━━━━━━━━━━\u001b[0m \u001b[32m1.1/1.1 MB\u001b[0m \u001b[31m6.0 MB/s\u001b[0m eta \u001b[36m0:00:00\u001b[0m\n",
            "\u001b[?25hBuilding wheels for collected packages: sklearn-crfsuite\n",
            "  Building wheel for sklearn-crfsuite (setup.py) ... \u001b[?25l\u001b[?25hdone\n",
            "  Created wheel for sklearn-crfsuite: filename=sklearn_crfsuite-0.3.6-py2.py3-none-any.whl size=10866 sha256=50e334c9af9d0e3c9df817e1afd5c5d728851e2710c352409ce504e16132429d\n",
            "  Stored in directory: /tmp/pip-ephem-wheel-cache-xtih15g6/wheels/0b/bc/07/bd75a6f5fa2bf2ea05a5aad8d9ac66d2b5aab93dfd4e1a89de\n",
            "Successfully built sklearn-crfsuite\n",
            "Installing collected packages: python-crfsuite, sklearn-crfsuite\n",
            "Successfully installed python-crfsuite-0.9.10 sklearn-crfsuite-0.3.6\n"
          ]
        }
      ]
    },
    {
      "cell_type": "code",
      "source": [
        "!wget https://raw.githubusercontent.com/davidsbatista/NER-datasets/dcb6c7439a7de43abc2448bad5b1d81a47f26c0d/CONLL2003/test.txt\n",
        "!wget https://raw.githubusercontent.com/davidsbatista/NER-datasets/dcb6c7439a7de43abc2448bad5b1d81a47f26c0d/CONLL2003/train.txt\n",
        "!wget https://raw.githubusercontent.com/davidsbatista/NER-datasets/dcb6c7439a7de43abc2448bad5b1d81a47f26c0d/CONLL2003/valid.txt"
      ],
      "metadata": {
        "id": "IyUiEbbrgybS",
        "outputId": "34a2d099-bb6d-4a4e-b761-e3f691798b3b",
        "colab": {
          "base_uri": "https://localhost:8080/"
        }
      },
      "execution_count": 2,
      "outputs": [
        {
          "output_type": "stream",
          "name": "stdout",
          "text": [
            "--2024-03-30 15:53:14--  https://raw.githubusercontent.com/davidsbatista/NER-datasets/dcb6c7439a7de43abc2448bad5b1d81a47f26c0d/CONLL2003/test.txt\n",
            "Resolving raw.githubusercontent.com (raw.githubusercontent.com)... 185.199.108.133, 185.199.109.133, 185.199.110.133, ...\n",
            "Connecting to raw.githubusercontent.com (raw.githubusercontent.com)|185.199.108.133|:443... connected.\n",
            "HTTP request sent, awaiting response... 200 OK\n",
            "Length: 748093 (731K) [text/plain]\n",
            "Saving to: ‘test.txt’\n",
            "\n",
            "test.txt            100%[===================>] 730.56K  4.43MB/s    in 0.2s    \n",
            "\n",
            "2024-03-30 15:53:15 (4.43 MB/s) - ‘test.txt’ saved [748093/748093]\n",
            "\n",
            "--2024-03-30 15:53:15--  https://raw.githubusercontent.com/davidsbatista/NER-datasets/dcb6c7439a7de43abc2448bad5b1d81a47f26c0d/CONLL2003/train.txt\n",
            "Resolving raw.githubusercontent.com (raw.githubusercontent.com)... 185.199.108.133, 185.199.109.133, 185.199.110.133, ...\n",
            "Connecting to raw.githubusercontent.com (raw.githubusercontent.com)|185.199.108.133|:443... connected.\n",
            "HTTP request sent, awaiting response... 200 OK\n",
            "Length: 3283418 (3.1M) [text/plain]\n",
            "Saving to: ‘train.txt’\n",
            "\n",
            "train.txt           100%[===================>]   3.13M  13.0MB/s    in 0.2s    \n",
            "\n",
            "2024-03-30 15:53:15 (13.0 MB/s) - ‘train.txt’ saved [3283418/3283418]\n",
            "\n",
            "--2024-03-30 15:53:16--  https://raw.githubusercontent.com/davidsbatista/NER-datasets/dcb6c7439a7de43abc2448bad5b1d81a47f26c0d/CONLL2003/valid.txt\n",
            "Resolving raw.githubusercontent.com (raw.githubusercontent.com)... 185.199.108.133, 185.199.111.133, 185.199.110.133, ...\n",
            "Connecting to raw.githubusercontent.com (raw.githubusercontent.com)|185.199.108.133|:443... connected.\n",
            "HTTP request sent, awaiting response... 200 OK\n",
            "Length: 827441 (808K) [text/plain]\n",
            "Saving to: ‘valid.txt’\n",
            "\n",
            "valid.txt           100%[===================>] 808.05K  4.78MB/s    in 0.2s    \n",
            "\n",
            "2024-03-30 15:53:16 (4.78 MB/s) - ‘valid.txt’ saved [827441/827441]\n",
            "\n"
          ]
        }
      ]
    },
    {
      "cell_type": "code",
      "source": [
        "import pandas as pd\n",
        "from sklearn.model_selection import train_test_split\n",
        "from sklearn.feature_extraction import DictVectorizer\n",
        "from sklearn.linear_model import LogisticRegression\n",
        "from sklearn.metrics import classification_report\n",
        "from sklearn_crfsuite import CRF, metrics"
      ],
      "metadata": {
        "id": "qkBkIb_7DZnQ"
      },
      "execution_count": 3,
      "outputs": []
    },
    {
      "cell_type": "code",
      "source": [
        "def load_conll_data(file_path):\n",
        "    data = []\n",
        "    with open(file_path, 'r', encoding='utf-8') as f:\n",
        "        sentence = []\n",
        "        for line in f:\n",
        "            if line.strip():\n",
        "                word, pos, chunk, ner = line.strip().split()\n",
        "                sentence.append((word, pos, chunk, ner))\n",
        "            else:\n",
        "                data.append(sentence)\n",
        "                sentence = []\n",
        "    return data"
      ],
      "metadata": {
        "id": "NNKb-QrCDfsF"
      },
      "execution_count": 4,
      "outputs": []
    },
    {
      "cell_type": "code",
      "source": [
        "def word2features(sent, i):\n",
        "    word = sent[i][0]\n",
        "    features = {\n",
        "        'bias': 1.0,\n",
        "        'word.lower()': word.lower(),\n",
        "        'word[-3:]': word[-3:],\n",
        "        'word[-2:]': word[-2:],\n",
        "        'word.isupper()': word.isupper(),\n",
        "        'word.istitle()': word.istitle(),\n",
        "        'word.isdigit()': word.isdigit(),\n",
        "    }\n",
        "    if i > 0:\n",
        "        prev_word = sent[i-1][0]\n",
        "        features.update({\n",
        "            '-1:word.lower()': prev_word.lower(),\n",
        "            '-1:word.istitle()': prev_word.istitle(),\n",
        "            '-1:word.isupper()': prev_word.isupper(),\n",
        "        })\n",
        "    else:\n",
        "        features['BOS'] = True\n",
        "    if i < len(sent)-1:\n",
        "        next_word = sent[i+1][0]\n",
        "        features.update({\n",
        "            '+1:word.lower()': next_word.lower(),\n",
        "            '+1:word.istitle()': next_word.istitle(),\n",
        "            '+1:word.isupper()': next_word.isupper(),\n",
        "        })\n",
        "    else:\n",
        "        features['EOS'] = True\n",
        "    return features\n",
        "\n",
        "def sent2features(sent):\n",
        "    return [word2features(sent, i) for i in range(len(sent))]\n",
        "\n",
        "def sent2labels(sent):\n",
        "    return [label for _, _, _, label in sent]"
      ],
      "metadata": {
        "id": "_xMw4QWRDoBU"
      },
      "execution_count": 5,
      "outputs": []
    },
    {
      "cell_type": "code",
      "source": [
        "train_data = load_conll_data('train.txt')\n",
        "test_data = load_conll_data('test.txt')"
      ],
      "metadata": {
        "id": "YSDVy0r5D5g3"
      },
      "execution_count": 6,
      "outputs": []
    },
    {
      "cell_type": "code",
      "source": [
        "X_train = [sent2features(sent) for sent in train_data]\n",
        "y_train = [sent2labels(sent) for sent in train_data]\n",
        "\n",
        "X_test = [sent2features(sent) for sent in test_data]\n",
        "y_test = [sent2labels(sent) for sent in test_data]"
      ],
      "metadata": {
        "id": "FGJ28a3bEb7j"
      },
      "execution_count": 7,
      "outputs": []
    },
    {
      "cell_type": "code",
      "source": [
        "%%time\n",
        "crf = CRF(algorithm='lbfgs', c1=0.1, c2=0.1, max_iterations=100, all_possible_transitions=True)\n",
        "\n",
        "try:\n",
        "    crf.fit(X_train, y_train)\n",
        "    print(\"Training successful!\")\n",
        "except AttributeError as e:\n",
        "    print(\"Error occurred during training:\", e)"
      ],
      "metadata": {
        "colab": {
          "base_uri": "https://localhost:8080/"
        },
        "id": "H2uu2vhJLNlk",
        "outputId": "adb60684-fcf7-4a5b-9c8f-b1a6382b7496"
      },
      "execution_count": 8,
      "outputs": [
        {
          "output_type": "stream",
          "name": "stdout",
          "text": [
            "Training successful!\n",
            "CPU times: user 30 s, sys: 230 ms, total: 30.2 s\n",
            "Wall time: 30.3 s\n"
          ]
        }
      ]
    },
    {
      "cell_type": "code",
      "source": [
        "labels = list(crf.classes_)\n",
        "labels.remove('O')\n",
        "labels"
      ],
      "metadata": {
        "colab": {
          "base_uri": "https://localhost:8080/"
        },
        "id": "yQKm-EW1tsck",
        "outputId": "18735870-05bc-4ea6-a6b9-db2ae2317617"
      },
      "execution_count": 9,
      "outputs": [
        {
          "output_type": "execute_result",
          "data": {
            "text/plain": [
              "['B-ORG', 'B-MISC', 'B-PER', 'I-PER', 'B-LOC', 'I-ORG', 'I-MISC', 'I-LOC']"
            ]
          },
          "metadata": {},
          "execution_count": 9
        }
      ]
    },
    {
      "cell_type": "markdown",
      "source": [
        "Evaluation"
      ],
      "metadata": {
        "id": "v1n5P5LltyPl"
      }
    },
    {
      "cell_type": "code",
      "source": [
        "y_pred = crf.predict(X_test)\n",
        "f1 = metrics.flat_f1_score(y_test, y_pred,\n",
        "                      average='weighted', labels=labels)\n",
        "print(f\"The F1 Score is {f1}\")"
      ],
      "metadata": {
        "colab": {
          "base_uri": "https://localhost:8080/"
        },
        "id": "sWBdFsjbtwdV",
        "outputId": "01a0281a-7535-40ff-ac5c-41c092606b15"
      },
      "execution_count": 10,
      "outputs": [
        {
          "output_type": "stream",
          "name": "stdout",
          "text": [
            "The F1 Score is 0.8066155156394734\n"
          ]
        }
      ]
    },
    {
      "cell_type": "code",
      "source": [
        "sorted_labels = sorted(\n",
        "    labels,\n",
        "    key=lambda name: (name[1:], name[0])\n",
        ")\n",
        "sorted_labels"
      ],
      "metadata": {
        "colab": {
          "base_uri": "https://localhost:8080/"
        },
        "id": "hJeoBaFtoFs1",
        "outputId": "692846b2-e70a-4f22-a866-3ce39586b6c1"
      },
      "execution_count": 11,
      "outputs": [
        {
          "output_type": "execute_result",
          "data": {
            "text/plain": [
              "['B-LOC', 'I-LOC', 'B-MISC', 'I-MISC', 'B-ORG', 'I-ORG', 'B-PER', 'I-PER']"
            ]
          },
          "metadata": {},
          "execution_count": 11
        }
      ]
    },
    {
      "cell_type": "code",
      "source": [
        "from sklearn_crfsuite.utils import flatten\n",
        "\n",
        "print(metrics.flat_classification_report(y_test,\n",
        "                                         y_pred,\n",
        "                                         labels=sorted_labels,\n",
        "                                         digits=3))"
      ],
      "metadata": {
        "colab": {
          "base_uri": "https://localhost:8080/"
        },
        "id": "9cPAzbZ2oGkE",
        "outputId": "3d8cb20b-ba7f-444a-d488-ca1ec8d856ff"
      },
      "execution_count": 12,
      "outputs": [
        {
          "output_type": "stream",
          "name": "stdout",
          "text": [
            "              precision    recall  f1-score   support\n",
            "\n",
            "       B-LOC      0.857     0.829     0.843      1667\n",
            "       I-LOC      0.785     0.712     0.747       257\n",
            "      B-MISC      0.806     0.760     0.783       701\n",
            "      I-MISC      0.639     0.645     0.642       214\n",
            "       B-ORG      0.830     0.704     0.762      1660\n",
            "       I-ORG      0.715     0.729     0.722       834\n",
            "       B-PER      0.819     0.848     0.833      1616\n",
            "       I-PER      0.852     0.955     0.900      1156\n",
            "\n",
            "   micro avg      0.816     0.800     0.808      8105\n",
            "   macro avg      0.788     0.773     0.779      8105\n",
            "weighted avg      0.816     0.800     0.807      8105\n",
            "\n"
          ]
        }
      ]
    },
    {
      "cell_type": "code",
      "source": [
        "from collections import Counter\n",
        "\n",
        "def print_transitions(trans_features):\n",
        "    for (label_from, label_to), weight in trans_features:\n",
        "        print(\"%-6s -> %-7s %0.6f\" % (label_from, label_to, weight))\n",
        "\n",
        "print(\"Top likely transitions:\")\n",
        "print_transitions(Counter(crf.transition_features_).most_common(20))"
      ],
      "metadata": {
        "colab": {
          "base_uri": "https://localhost:8080/"
        },
        "id": "OYvlT4p8xABD",
        "outputId": "0239243c-30f5-439d-a99e-98a9887472b7"
      },
      "execution_count": 13,
      "outputs": [
        {
          "output_type": "stream",
          "name": "stdout",
          "text": [
            "Top likely transitions:\n",
            "B-ORG  -> I-ORG   6.590739\n",
            "B-PER  -> I-PER   5.954990\n",
            "I-ORG  -> I-ORG   5.506068\n",
            "B-MISC -> I-MISC  4.819992\n",
            "I-MISC -> I-MISC  4.812910\n",
            "B-LOC  -> I-LOC   4.273021\n",
            "I-PER  -> I-PER   3.835088\n",
            "I-LOC  -> I-LOC   3.694272\n",
            "O      -> O       2.582599\n",
            "O      -> B-MISC  2.017460\n",
            "O      -> B-PER   1.919751\n",
            "O      -> B-LOC   1.811063\n",
            "O      -> B-ORG   1.482501\n",
            "B-ORG  -> O       0.243393\n",
            "B-MISC -> O       0.020722\n",
            "B-LOC  -> B-MISC  -0.287340\n",
            "B-LOC  -> O       -0.328965\n",
            "I-MISC -> B-MISC  -0.414566\n",
            "B-MISC -> B-ORG   -0.438994\n",
            "I-PER  -> O       -0.534442\n"
          ]
        }
      ]
    }
  ]
}